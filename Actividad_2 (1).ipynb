{
  "nbformat": 4,
  "nbformat_minor": 0,
  "metadata": {
    "colab": {
      "provenance": []
    },
    "kernelspec": {
      "name": "python3",
      "display_name": "Python 3"
    },
    "language_info": {
      "name": "python"
    }
  },
  "cells": [
    {
      "cell_type": "markdown",
      "source": [
        "# Actividad 2"
      ],
      "metadata": {
        "id": "Vdl_txP_7LtD"
      }
    },
    {
      "cell_type": "markdown",
      "source": [
        "## Trabajo en grupo entre 2 o 3 estudiantes\n",
        "Indicar los nombres y los links de los repositorios de la actividad 1 de los integrantes:\n",
        "* nombre - repositorio\n",
        "* Carrasco Lautaro - https://github.com/LCGuser373/My_hobby"
      ],
      "metadata": {
        "id": "Pxb1o18H7UKU"
      }
    },
    {
      "cell_type": "markdown",
      "source": [
        "# Python y Colab\n",
        "* Se utilizará **Python** y este documento de **Google Colab** para resolver el ejercicio.\n",
        "* Para que la tarea se considere entregada se deberá poner el link del documento colab, con las soluciones, en la tarea de **todos** los integrantes.\n",
        "\n",
        "El ejercicio es **procesar texto** largo para identificar líenas, caracteres específicos.\n",
        "\n",
        "1. Se deberá realizar una **copia** de este documento antes de comenzar a modificar\n",
        "2. A lo largo del docuemtno se pedirá que responda preguntas y realice código, completar en la copia realizada con lo solicitado.\n",
        "3. Copiar el texto de los archivos subidos en los repositorios individuales utilizados en la actividad 1,  de cada integrante de este grupo en una sola **variable de texto.**\n",
        "\n"
      ],
      "metadata": {
        "id": "kufnxVG474V2"
      }
    },
    {
      "cell_type": "code",
      "source": [
        "# completar con sus textos\n",
        "texto_completo = '''\n",
        "# Titulo: Lectura de Mangas y Manwhas\n",
        "\n",
        "**Diversion**: Disfruto leer este tipo de \"comics\" porque me encantan sus estilos de dibujo y su enorme variedad de historias diferentes, tambien porque por lo general hablan mas sobre paises extranjeros y puedo aprender mas sobre estos.\n",
        "\n",
        "**Familia**: Estoy seguro de ser el unico integrante de la familia que disfruta este tipo de hobby, ya que este hobby no es muy popular entre adultos, y no tengo familiares con mi mismo rango de edad.\n",
        "\n",
        "**Amigos**: Con mis amigos compartimos bastante este hobby, recomendandonos algun manga o manwha que nos guste, dando comentarios y opiniones de si nos gusta o no.\n",
        "\n",
        "**Medios**: Busco informacion sobre mangas generalmente en internet o youtube, principalmente resumenes,recomendaciones y reseñas, ademas uso aplicaciones de lectura para leerlos directamente y/o descargarlos.\n",
        "\n",
        "**Tecnologia**: La tecnologia a facilitado enormemente la lectura de mangas y manwhas, ya que estos son de origen oriental, siendo que conseguir este tipo de contenido de forma fisica seria muy costoso o muy dificl, en cambio, con los medios tecnologicos la tarea de encontrar este tipo de material se vuelve muy facil y barato, tambien gracias a la tecnologia se puede compartir con amigos o parientes. Gracias a que este contenido puede ser visto por todos, gente de cualquier lado puede traducir los idiomas de estos mangas y manwhas,compartir sus traducciones y logrando que cualquier persona sin importar el genero, tenga la comodidad de disfrutar este hobby desde cualquier lugar. En resumen, la tecnologia a contribuido enormemente en la lectura de estos \"comics\" orientales, facilitando su acceso y disfrute de muchas maneras.\n",
        "\n",
        "'''"
      ],
      "metadata": {
        "id": "_y9xVFhj9Heq"
      },
      "execution_count": null,
      "outputs": []
    },
    {
      "cell_type": "markdown",
      "source": [
        "* Utilice el método **split()** para separar las palabras de la variable texto_completo, guarde el resultado en una variable nueva.\n",
        "* Indique el tipo de dato de la variable nueva utilizando el método **type(variable)**"
      ],
      "metadata": {
        "id": "e8llbqcS5e9c"
      }
    },
    {
      "cell_type": "markdown",
      "source": [
        "* Esta variable es de tipo **string**, podes conocer más en esta [página](https://docs.python.org/es/3/library/string.html).\n",
        "* Podemos saber la longitud con len().\n",
        "```python\n",
        "len(texto_completo)\n",
        "```\n",
        "* Podemos separar por palabras, es decir, generar una lista donde cada palabra sea una elemento con el método split()\n",
        "```python\n",
        "texto_completo.split()\n",
        "```\n",
        "\n",
        "\n"
      ],
      "metadata": {
        "id": "NsW0r4bK9SHH"
      }
    },
    {
      "cell_type": "code",
      "source": [
        "texto_ejemplo = '''Copiar el texto del archivo subido en los repositorios individuales de cada integrante de este grupo en una variable de texto'''\n",
        "lista_palabras = texto_ejemplo.split()"
      ],
      "metadata": {
        "id": "RHoorckM9-5U"
      },
      "execution_count": null,
      "outputs": []
    },
    {
      "cell_type": "code",
      "source": [
        "#completar con el código que separa la variable texto_compelto teniendo en cuenta el caracter \":\"\n",
        "\n",
        "lista_de_palabras= texto_completo.split(\":\")\n",
        "print(lista_de_palabras)\n",
        "\n",
        "#completar con el código indicando la longitud de la nueva variable\n",
        "\n",
        "longtud_lista = len(lista_de_palabras)\n",
        "print(\"la longitud es de:\",longitud_lista)"
      ],
      "metadata": {
        "id": "IxqvPv2r61y2"
      },
      "execution_count": null,
      "outputs": []
    },
    {
      "cell_type": "markdown",
      "source": [
        "* Indique con qué método se puede sacar los espacios que tiene un texto adelante o atrás, como se ve en ejemplo de abajo.\n",
        "\n",
        "\"  texto con espacio             \" -> \"texto con espacio\""
      ],
      "metadata": {
        "id": "-52ubwhNAuBv"
      }
    },
    {
      "cell_type": "code",
      "source": [
        "texto_ejemplo = '''Copiar el texto del archivo subido en los repositorios individuales de cada integrante de este grupo en una variable de texto'''\n",
        "lista_palabras = texto_ejemplo.split()\n",
        "#completar con el código ejemplo utilizando el método correspondiente\n",
        "texto_sin_espacios = texto_ejemplo.split()\n",
        "print(texto_sin_espacios)"
      ],
      "metadata": {
        "id": "jMFf3UY3BSm9"
      },
      "execution_count": null,
      "outputs": []
    },
    {
      "cell_type": "markdown",
      "source": [
        "* Indique cómo se puede utilizar el método split() para separar palabras, utilizando como caracter de separación, por ejemplo \":\":\n",
        "\n",
        "\"texto: es una línea de texto\" -> [\"texto\", \"es una línea de texto\"]\n",
        "* Realice la separación del texto de la variable texto_completo y guarde el resultado en una nueva variable.\n",
        "* Indique la longitud de esta nueva variable"
      ],
      "metadata": {
        "id": "6RPs7HOf5IFL"
      }
    },
    {
      "cell_type": "code",
      "source": [
        "#completar con el código\n",
        "#separar el texto en palabras usando split con el caracter \":\"\n",
        "texto_completo =  '''\n",
        " # Titulo: Lectura de Mangas y Manwhas\n",
        "\n",
        "**Diversion**: Disfruto leer este tipo de \"comics\" porque me encantan sus estilos de dibujo y su enorme variedad de historias diferentes, tambien porque por lo general hablan mas sobre paises extranjeros y puedo aprender mas sobre estos.\n",
        "\n",
        "**Familia**: Estoy seguro de ser el unico integrante de la familia que disfruta este tipo de hobby, ya que este hobby no es muy popular entre adultos, y no tengo familiares con mi mismo rango de edad.\n",
        "\n",
        "**Amigos**: Con mis amigos compartimos bastante este hobby, recomendandonos algun manga o manwha que nos guste, dando comentarios y opiniones de si nos gusta o no.\n",
        "\n",
        "**Medios**: Busco informacion sobre mangas generalmente en internet o youtube, principalmente resumenes,recomendaciones y reseñas, ademas uso aplicaciones de lectura para leerlos directamente y/o descargarlos.\n",
        "\n",
        "**Tecnologia**: La tecnologia a facilitado enormemente la lectura de mangas y manwhas, ya que estos son de origen oriental, siendo que conseguir este tipo de contenido de forma fisica seria muy costoso o muy dificl, en cambio, con los medios tecnologicos la tarea de encontrar este tipo de material se vuelve muy facil y barato, tambien gracias a la tecnologia se puede compartir con amigos o parientes. Gracias a que este contenido puede ser visto por todos, gente de cualquier lado puede traducir los idiomas de estos mangas y manwhas,compartir sus traducciones y logrando que cualquier persona sin importar el genero, tenga la comodidad de disfrutar este hobby desde cualquier lugar. En resumen, la tecnologia a contribuido enormemente en la lectura de estos \"comics\" orientales, facilitando su acceso y disfrute de muchas maneras.\n",
        "\n",
        "'''\n",
        "#indicar la longitud de la nueva variable\n",
        "longitud_resultado = len(resultado_split)\n",
        "print(resultado_split)"
      ],
      "metadata": {
        "id": "PFP_9FYP5eFG"
      },
      "execution_count": null,
      "outputs": []
    },
    {
      "cell_type": "markdown",
      "source": [
        "También  se puede usar el método **splitlines()** para separar por cada nueva línea\n",
        "```python\n",
        "texto_ejemplo.splitlines()\n",
        "```"
      ],
      "metadata": {
        "id": "Sf2wlKRMMkB6"
      }
    },
    {
      "cell_type": "markdown",
      "source": [
        "* Generar una nueva variable que guarde el contenido de la variable texto_completo separandolo por nueva línea\n",
        "* Recorrer la lista y encontrar los elementos que contienen el carater \":\".\n",
        "* Consulte la estructura **for** y el **if** en python."
      ],
      "metadata": {
        "id": "Ufy8fwXfO2io"
      }
    },
    {
      "cell_type": "code",
      "source": [
        "# ejemplo del uso del for\n",
        "mi_lista =['a','b','c','d','e','f','g','h']\n",
        "for i in mi_lista:\n",
        "  print(i)"
      ],
      "metadata": {
        "colab": {
          "base_uri": "https://localhost:8080/"
        },
        "id": "YxNomJaGQ696",
        "outputId": "e43b2aca-29e0-4862-c971-b3e91a099eac"
      },
      "execution_count": null,
      "outputs": [
        {
          "output_type": "stream",
          "name": "stdout",
          "text": [
            "a\n",
            "b\n",
            "c\n",
            "d\n",
            "e\n",
            "f\n",
            "g\n",
            "h\n"
          ]
        }
      ]
    },
    {
      "cell_type": "code",
      "source": [
        "#completar acá con el código que permite separar por nueva línea la variable texto_completo, guarde el resultado en una nueva variable\n",
        "texto_completo ='''\n",
        "\\n1 Titulo: Lectura de Mangas y Manwhas\n",
        "\n",
        "\\n2 Diversion: Disfruto leer este tipo de \"comics\" porque me encantan sus estilos de dibujo y su enorme variedad de historias diferentes, tambien porque por lo general hablan mas sobre paises extranjeros y puedo aprender mas sobre estos.\n",
        "\n",
        "\\n3 Familia: Estoy seguro de ser el unico integrante de la familia que disfruta este tipo de hobby, ya que este hobby no es muy popular entre adultos, y no tengo familiares con mi mismo rango de edad.\n",
        "\n",
        "\\n4 Amigos: Con mis amigos compartimos bastante este hobby, recomendandonos algun manga o manwha que nos guste, dando comentarios y opiniones de si nos gusta o no.\n",
        "\n",
        "\\n5 Medios: Busco informacion sobre mangas generalmente en internet o youtube, principalmente resumenes,recomendaciones y reseñas, ademas uso aplicaciones de lectura para leerlos directamente y/o descargarlos.\n",
        "\n",
        "\\n6 Tecnologia: La tecnologia a facilitado enormemente la lectura de mangas y manwhas, ya que estos son de origen oriental, siendo que conseguir este tipo de contenido de forma fisica seria muy costoso o muy dificl, en cambio, con los medios tecnologicos la tarea de encontrar este tipo de material se vuelve muy facil y barato, tambien gracias a la tecnologia se puede compartir con amigos o parientes. Gracias a que este contenido puede ser visto por todos, gente de cualquier lado puede traducir los idiomas de estos mangas y manwhas,compartir sus traducciones y logrando que cualquier persona sin importar el genero, tenga la comodidad de disfrutar este hobby desde cualquier lugar. En resumen, la tecnologia a contribuido enormemente en la lectura de estos \"comics\" orientales, facilitando su acceso y disfrute de muchas maneras.\n",
        "\n",
        "'''\n",
        "#recorrer  la nueva variable imprimiendo cada elemento de la lista\n",
        "lineas = texto_completo.splitlines()\n",
        "for lineas in lineas:\n",
        "    if \":\" in lineas:\n",
        "        print(f\"Encontrado en línea: {lineas}\")\n",
        "#indicar longitud de la nueva variable\n",
        "lineas = texto_completo.split(\":\")\n",
        "longitud_lista = len(lineas)\n",
        "print(\"la longitud es de:\",longitud_lista)\n"
      ],
      "metadata": {
        "id": "_AXZG7MKRQji"
      },
      "execution_count": null,
      "outputs": []
    },
    {
      "cell_type": "markdown",
      "source": [],
      "metadata": {
        "id": "sBhNPldVgGJq"
      }
    },
    {
      "cell_type": "markdown",
      "source": [
        "## Contestar las siguientes consultas:\n",
        "* ¿Qué elementos les parece que no sería necesario guardar en la lista?\n",
        "* ¿Todos los elementos, de la nueva variable que usó para guardar el resultado de separar por cada nueva línea, contienen texto?\n",
        "* La estructura condicional de python  permite saber si un elemento de la lista, que se está recorriendo, contiene el caracter \":\"?\n",
        "```python\n",
        "if \":\" in i:\n",
        "      print(\"está\")\n",
        "```\n",
        "* ¿Cómo se denomina la parte de la estructura condicional?\n",
        "```python\n",
        "\":\" in i\n",
        "```\n",
        "* Recorra la lista consultando si en la línea que se encuentra contiene el caracter \":\"\n"
      ],
      "metadata": {
        "id": "OqJVlmZER5JV"
      }
    },
    {
      "cell_type": "code",
      "source": [
        "#completar con el código que recorre la variable lista e imprime por pantalla las líneas que contiene \":\"\n",
        "texto_completo =['''\n",
        "\\n1 Titulo: Lectura de Mangas y Manwhas\n",
        "\n",
        "\\n2 Diversion: Disfruto leer este tipo de \"comics\" porque me encantan sus estilos de dibujo y su enorme variedad de historias diferentes, tambien porque por lo general hablan mas sobre paises extranjeros y puedo aprender mas sobre estos.\n",
        "\n",
        "\\n3 Familia: Estoy seguro de ser el unico integrante de la familia que disfruta este tipo de hobby, ya que este hobby no es muy popular entre adultos, y no tengo familiares con mi mismo rango de edad.\n",
        "\n",
        "\\n4 Amigos: Con mis amigos compartimos bastante este hobby, recomendandonos algun manga o manwha que nos guste, dando comentarios y opiniones de si nos gusta o no.\n",
        "\n",
        "\\n5 Medios: Busco informacion sobre mangas generalmente en internet o youtube, principalmente resumenes,recomendaciones y reseñas, ademas uso aplicaciones de lectura para leerlos directamente y/o descargarlos.\n",
        "\n",
        "\\n6 Tecnologia: La tecnologia a facilitado enormemente la lectura de mangas y manwhas, ya que estos son de origen oriental, siendo que conseguir este tipo de contenido de forma fisica seria muy costoso o muy dificl, en cambio, con los medios tecnologicos la tarea de encontrar este tipo de material se vuelve muy facil y barato, tambien gracias a la tecnologia se puede compartir con amigos o parientes. Gracias a que este contenido puede ser visto por todos, gente de cualquier lado puede traducir los idiomas de estos mangas y manwhas,compartir sus traducciones y logrando que cualquier persona sin importar el genero, tenga la comodidad de disfrutar este hobby desde cualquier lugar. En resumen, la tecnologia a contribuido enormemente en la lectura de estos \"comics\" orientales, facilitando su acceso y disfrute de muchas maneras.\n",
        "\n",
        "''']\n",
        "\n",
        "mi_lista = texto_completo\n",
        "for lineas in mi_lista:\n",
        "    if \":\" in lineas:\n",
        "        print(lineas)"
      ],
      "metadata": {
        "id": "PrSXHjecb5Lw"
      },
      "execution_count": null,
      "outputs": []
    },
    {
      "cell_type": "markdown",
      "source": [
        "\n",
        "1. Indicar qué tipos de datos se utilizaron en este documento.\n",
        "2. Por cada tipo de datos de los ejemplos, indique cuáles son las variables utilizadas en esta actividad de ese tipo.\n",
        "\n",
        "* Cadenas de Texto (str): como “titulo”, “familia” o “tecnologia”. Listas (list): que la utilizamos para hacer una lista del texto_completo.y cadenas de texto como el if que lo usamos para buscar las lineas que tengan \":\" en el texto\n",
        "\n",
        "\n",
        "\n",
        "3. ¿Qué estructuras de datos que permite almacenar más de un elemento, utilizó en esta actividad? De los nombres de las variables que correspondan a este tipo de datos.\n",
        "\n",
        "* En principio la estructura de datos que utilizamos para guardar la informacion es la lista, que esta puesta con la variable \"mi_lista\", luego considerando cada caracter como un elemento distinto, las cadenas de texto son capaces de almacenar varias al mismo tiempo, y la variable que se uso fue \"texto_completo\"\n",
        "\n",
        "\n",
        "\n",
        "4. Investigar en chatgpt: ¿qué estructura podría ser más eficiente utilizar para guardar datos que estén relacionados entre sí y el acceso a ciertas claves sea directo sin tener que recorrer la estructura?\n",
        "\n",
        "* Para almacenar datos relacionados entre sí y permitir un acceso directo a ciertas claves sin necesidad de recorrer toda la estructura, los mapas (o diccionarios) son la elección más eficiente.\n",
        "\n",
        " Los mapas (o diccionarios) son contenedores asociativos que permiten mapear claves (llaves) a valores. Cada clave es única y se utiliza para acceder directamente al valor correspondiente. Esto significa que no es necesario recorrer toda la estructura para encontrar un elemento específico; simplemente se busca por su clave.\n",
        "\n",
        "5. ¿Cómo se podría guardar los datos de los hobbies para poder acceder directamente a las respuestas de cada integrante? ¿qué estructura y cómo la armaría? Indicar cómo le quedaría sin hacerlo en python sino escribiendo la forma de cómo quedaría.\n",
        "\n",
        "* Esto se podria hacer de la siguiente manera: se crea una lista que contenga el hobby de cada uno por separado, luego solo basta con usar un print para elegir cual texto de los dos queremos ver"
      ],
      "metadata": {
        "id": "GZCJ7WEmBL4I"
      }
    },
    {
      "cell_type": "markdown",
      "source": [
        "## Tips de manejo de string\n",
        "* Utiliza la función split() para dividir el texto en palabras. Por ejemplo, texto.split() devolverá una lista de palabras.\n",
        "\n",
        "* Utiliza la función strip() para eliminar espacios en blanco al inicio y al final del texto. Por ejemplo, texto.strip() devolverá el texto sin espacios en blanco innecesarios.\n",
        "\n",
        "* Utiliza el método splitlines() para dividir el texto en líneas. Por ejemplo, texto.splitlines() devolverá una lista de líneas.\n",
        "\n",
        "* Utiliza el método replace() para reemplazar una subcadena por otra en un string. Por ejemplo, \"Hola mundo\".replace(\"mundo\", \"amigos\") devolverá el string \"Hola amigos\".\n",
        "\n",
        "* Utiliza el módulo string para manipular texto de forma eficiente. Por ejemplo, string.ascii_lowercase devolverá una cadena de texto con todas las letras minúsculas del alfabeto.\n",
        "\n",
        "* Utiliza la función startswith() para comprobar si una cadena de texto empieza con un determinado prefijo. Por ejemplo, texto.startswith('Hola') devolverá True si el texto empieza con la palabra \"Hola\".\n",
        "\n",
        "* Utiliza la función endswith() para comprobar si una cadena de texto termina con un determinado sufijo. Por ejemplo, texto.endswith('mundo') devolverá True si el texto termina con la palabra \"mundo\".\n",
        "\n",
        "* Utiliza la función isalpha() para comprobar si una cadena de texto contiene solamente letras. Por ejemplo, texto.isalpha() devolverá True si el texto contiene solamente letras.\n",
        "\n",
        "* Utiliza la función isdigit() para comprobar si una cadena de texto contiene solamente números. Por ejemplo, texto.isdigit() devolverá True si el texto contiene solamente números.\n",
        "\n"
      ],
      "metadata": {
        "id": "KAD0Vv2o8xQV"
      }
    }
  ]
}

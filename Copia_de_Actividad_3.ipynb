{
  "nbformat": 4,
  "nbformat_minor": 0,
  "metadata": {
    "colab": {
      "provenance": []
    },
    "kernelspec": {
      "name": "python3",
      "display_name": "Python 3"
    },
    "language_info": {
      "name": "python"
    }
  },
  "cells": [
    {
      "cell_type": "markdown",
      "source": [
        "\n",
        "# Prácticas Profesionalizantes 2024\n",
        "EEST 9\n",
        "\n",
        "# Actividad 3"
      ],
      "metadata": {
        "id": "Vdl_txP_7LtD"
      }
    },
    {
      "cell_type": "markdown",
      "source": [
        "## Trabajo en grupo entre 2 o 3 estudiantes\n",
        "Indicar los nombres y los links de los repositorios de la actividad 3 de los integrantes:\n",
        "* carrasco lautaro -https://github.com/LCGuser373/My_hobby\n",
        "* Godoy Agustin - https://github.com/agusJG\n",
        "* Ortiz Nahuel - https://github.com/Nahuu247\n",
        "* Castro lucas - https://github.com/Mugen15"
      ],
      "metadata": {
        "id": "Pxb1o18H7UKU"
      }
    },
    {
      "cell_type": "markdown",
      "source": [
        "# Python y Colab\n",
        "* Se utilizará **Python** y este documento de **Google Colab** para resolver el ejercicio.\n",
        "* Para que la tarea se considere entregada se deberá poner el link del documento colab, con las soluciones, en la tarea de **todos** los integrantes.\n",
        "\n",
        "El ejercicio es **procesar texto** largo para identificar líneas, caracteres específicos y generar un diccionario con los nombres de los integrantes.\n",
        "\n",
        "1. Se deberá realizar una **copia** de este documento antes de comenzar a modificar\n",
        "2. A lo largo del documetno se pedirá que responda preguntas y realice código, completar en la copia realizada con lo solicitado.\n",
        "3. Copiar el texto de los archivos subidos en los repositorios individuales utilizados en la actividad 1,  de cada integrante de este grupo en una sola **variable de texto.**\n",
        "4. Antes del texto de cada integrante se deberá poner el nombre correspondiente y luego agregar el caracter *\n"
      ],
      "metadata": {
        "id": "kufnxVG474V2"
      }
    },
    {
      "cell_type": "markdown",
      "source": [
        "Respetar el siguiente formato del texto para guardarlo de esa forma en la variable:\n",
        "\n",
        "Nombre1*\n",
        "\n",
        "Título:\n",
        "\n",
        "Diversión:\n",
        "\n",
        "Familia:\n",
        "\n",
        "Amigos:\n",
        "\n",
        "Medios:\n",
        "\n",
        "Tecnología:\n",
        "\n",
        "Nombre2*"
      ],
      "metadata": {
        "id": "0FVpFUsJMpGJ"
      }
    },
    {
      "cell_type": "code",
      "source": [
        "# completar con sus textos"
      ],
      "metadata": {
        "id": "_y9xVFhj9Heq"
      },
      "execution_count": null,
      "outputs": []
    },
    {
      "cell_type": "markdown",
      "source": [
        "## Procesamiento\n",
        "* Procesar la variable de texto y generar una estructura que permita acceder directamente con el nombre del integrante:\n",
        "\n",
        "**Nombre1**: **texto del hobby**\n",
        "* Nota: Para guardar la key con el nombre preguntar si en la línea contiene el caracter \"*\""
      ],
      "metadata": {
        "id": "VehRQ8fHNTTe"
      }
    },
    {
      "cell_type": "code",
      "source": [
        "len(mi_dict)"
      ],
      "metadata": {
        "colab": {
          "base_uri": "https://localhost:8080/"
        },
        "id": "7T9wjinXVAl3",
        "outputId": "096920af-2f43-4fce-98ae-4425ab25410b"
      },
      "execution_count": null,
      "outputs": [
        {
          "output_type": "execute_result",
          "data": {
            "text/plain": [
              "4"
            ]
          },
          "metadata": {},
          "execution_count": 4
        }
      ]
    },
    {
      "cell_type": "markdown",
      "source": [
        "Para poder concatenar texto debo ir agregando los textos de cada linea, les dejo un ejemplo"
      ],
      "metadata": {
        "id": "NyZsweS_T_83"
      }
    },
    {
      "cell_type": "code",
      "source": [
        "contenido = ' '\n",
        "contenido = contenido + 'hola'\n",
        "contenido"
      ],
      "metadata": {
        "colab": {
          "base_uri": "https://localhost:8080/",
          "height": 35
        },
        "id": "WuaOM40fTtW0",
        "outputId": "3792f84e-b6c1-4871-f643-24c1d246f93b"
      },
      "execution_count": null,
      "outputs": [
        {
          "output_type": "execute_result",
          "data": {
            "text/plain": [
              "' hola'"
            ],
            "application/vnd.google.colaboratory.intrinsic+json": {
              "type": "string"
            }
          },
          "metadata": {},
          "execution_count": 19
        }
      ]
    },
    {
      "cell_type": "code",
      "source": [
        "contenido = contenido + ' mas texto'\n",
        "contenido"
      ],
      "metadata": {
        "colab": {
          "base_uri": "https://localhost:8080/",
          "height": 35
        },
        "id": "h1a_Lo7dT3SC",
        "outputId": "b85ef91d-419d-4ea2-e83f-ab0efbda13f9"
      },
      "execution_count": null,
      "outputs": [
        {
          "output_type": "execute_result",
          "data": {
            "text/plain": [
              "'hola mas texto'"
            ],
            "application/vnd.google.colaboratory.intrinsic+json": {
              "type": "string"
            }
          },
          "metadata": {},
          "execution_count": 5
        }
      ]
    },
    {
      "cell_type": "code",
      "source": [
        "# completar con el código que procesa y genera el diccionario\n",
        "texto = '''\n",
        "Lautaro*\n",
        "Titulo: Lectura de Mangas y Manwhas\n",
        "Diversion: Disfruto leer este tipo de \"comics\" porque me encantan sus estilos de dibujo y su enorme variedad de historias diferentes, tambien porque por lo general hablan mas sobre paises extranjeros y puedo aprender mas sobre estos.\n",
        "Familia: Estoy seguro de ser el unico integrante de la familia que disfruta este tipo de hobby, ya que este hobby no es muy popular entre adultos, y no tengo familiares con mi mismo rango de edad.\n",
        "Amigos: Con mis amigos compartimos bastante este hobby, recomendandonos algun manga o manwha que nos guste, dando comentarios y opiniones de si nos gusta o no.\n",
        "Medios: Busco informacion sobre mangas generalmente en internet o youtube, principalmente resumenes,recomendaciones y reseñas, ademas uso aplicaciones de lectura para leerlos directamente y/o descargarlos.\n",
        "Tecnologia: La tecnologia a facilitado enormemente la lectura de mangas y manwhas, ya que estos son de origen oriental, siendo que conseguir este tipo de contenido de forma fisica seria muy costoso o muy dificl, en cambio, con los medios tecnologicos la tarea de encontrar este tipo de material se vuelve muy facil y barato, tambien gracias a la tecnologia se puede compartir con amigos o parientes. Gracias a que este contenido puede ser visto por todos, gente de cualquier lado puede traducir los idiomas de estos mangas y manwhas,compartir sus traducciones y logrando que cualquier persona sin importar el genero, tenga la comodidad de disfrutar este hobby desde cualquier lugar. En resumen, la tecnologia a contribuido enormemente en la lectura de estos \"comics\" orientales, facilitando su acceso y disfrute de muchas maneras.\n",
        "\n",
        "Nahuel*\n",
        "Titulo: Ver series\n",
        "Diversión: ver series es algo muy entretenido ya que son momentos en los que me puedo relajar, ademas de que dependiendo la serie puedo emocionarme, puede generarme intriga, me puede asustar, etc. En general la paso muy bien\n",
        "Familia: Suelo ver series solo, pero ultimamente las veo en familia, con mis padres y con mi hermano, pero normalmente con mi hermano\n",
        "Amigos: en mi grupo de amigos se suele hablar bastante en grupo sobre las series que vemos, los nuevos estrenos, etc.\n",
        "Medios: Por suerte en mi casa disponemos de varias plataformas para poder ver series, ya sea netflix, Disney+, Prime video, Crunchyroll, HBO+, Star+\n",
        "Tecnología: La tecnologia ayuda en muchos sentidos, por ejemplo con la ayuda de las plataformas de streaming puedo ver mis series favoritas a pesar de ser viejas y/o que no esten en transmision. Gracias a la tecnologia no necesito esperar a una hora especifica o a un dia especifico para poder ver la serie o pelicula que quiera y mas comodidad al poder pausar lo que este viendo, puedo verlo las veces que quiera y donde quiera, es mucho mas comodo de esta manera.\n",
        "\n",
        "Agustin*\n",
        "Título: Videojuegos\n",
        "Diversión: Me jugar videojuegos porque me permite vivir historias y desafíos nuevos y unicos, los videojuegos te permiten jugar con amigos y tambien tienen una gran varieda de tipos y generos asi que nunca te podras cansar o aburrir de ellos\n",
        "Familia: Mi hermano y yo compartimos el hobby casi siempre Pasamos muchas horas jugando juntos y me gusta enseñarle nuevos juegos y hacer torneos entre nosotros en juegos competitivos como mortal kombat o brawhala\n",
        "Amigos: Tengo un grupo de amigos con los que juego muy segudo casi 4 o 5 veces por semana , discutimos sobre los videojuegos y nos damos consejos entre nosotros sobre algun videojuego que estemos jugando y de vez en cuando organisamos competencias entre nosotros para ver quien es el mejor\n",
        "Medios: casi siempre para enterarme de algun tema sobre videojuegos uso youtube o instagram y veo algun youtuber o instagramer que suba contenido de lo que estoy buscando\n",
        "Tecnología: La tecnología ha transformado por completo la experiencia de jugar. La disponibilidad de consolas de última generación, como PlayStation 5, Xbox Series X, y la creciente potencia de las PC gaming, permiten disfrutar de gráficos y rendimiento excepcionales. Además, la conectividad en línea y las plataformas de distribución digital, como Steam y Epic Games Store, hacen que sea fácil acceder a una amplia variedad de juegos. Los videojuegos son disfrutados por personas de todos los géneros y edades, y la tecnología ha contribuido a la diversificación del público y a la inclusión de más mujeres y personas de distintas comunidades en la comunidad gamer.\n",
        "\n",
        "Lucas*\n",
        "Titulo: La musica\n",
        "Diversión: La musica me deja una sensación de felicidad alegria y mucha pasion, trate de romance, perdida, cuente una historia o hable con metaforas, es una sensación que no se puede describir\n",
        "Familia: Comparto gustos de ciertas canciones pero en mi familia soy el único que toca instrumentos\n",
        "Amigos: En ciertas ocasiones nada más, es muy raro que se de el compartir mi gudto por la musica\n",
        "Medios: Youtube, YT music y diversas paginas, por ejemplo cuando quiero ver las tablaturas de una cancion busco y reviso varias versiones para ver cual es la mejor y la que mas se acerca\n",
        "Tecnología: En cuestiones de aprendizaje de tecnicas, acordes, lectura de tablaturas, en todo el aprendizaje ya que antes se tenia que ir a escuelas especificadas en eso, profesores privados o lugares publicos que enseñaban como el conservatorio de la Plata a veces quedando demasiado lejos\n",
        " '''\n",
        "hobby = ''\n",
        "#separo en líneas la variable de texto\n",
        "lista_lineas = texto.splitlines()\n",
        "\n",
        "#creo mi diccionario\n",
        "mi_dict= {}\n",
        "# recorro la variable con los elementos, encontrando las líneas que contiene el caracter *\n",
        "for i in lista_lineas:\n",
        "  if '*' in i:\n",
        "      integrante = i.replace('*', '')\n",
        "      mi_dict[integrante] = ''\n",
        "      hobby = integrante\n",
        "# si la linea no contiene * voy agregando a una variable de texto el contenido de ese hobby\n",
        "  elif hobby:\n",
        "      mi_dict[integrante]+= i\n",
        "mi_dict"
      ],
      "metadata": {
        "id": "_ddIprgtFkYQ",
        "colab": {
          "base_uri": "https://localhost:8080/"
        },
        "outputId": "768061ab-fc77-4498-ea7d-a6b156a368ec"
      },
      "execution_count": null,
      "outputs": [
        {
          "output_type": "execute_result",
          "data": {
            "text/plain": [
              "{'Lautaro': 'Titulo: Lectura de Mangas y ManwhasDiversion: Disfruto leer este tipo de \"comics\" porque me encantan sus estilos de dibujo y su enorme variedad de historias diferentes, tambien porque por lo general hablan mas sobre paises extranjeros y puedo aprender mas sobre estos.Familia: Estoy seguro de ser el unico integrante de la familia que disfruta este tipo de hobby, ya que este hobby no es muy popular entre adultos, y no tengo familiares con mi mismo rango de edad.Amigos: Con mis amigos compartimos bastante este hobby, recomendandonos algun manga o manwha que nos guste, dando comentarios y opiniones de si nos gusta o no.Medios: Busco informacion sobre mangas generalmente en internet o youtube, principalmente resumenes,recomendaciones y reseñas, ademas uso aplicaciones de lectura para leerlos directamente y/o descargarlos.Tecnologia: La tecnologia a facilitado enormemente la lectura de mangas y manwhas, ya que estos son de origen oriental, siendo que conseguir este tipo de contenido de forma fisica seria muy costoso o muy dificl, en cambio, con los medios tecnologicos la tarea de encontrar este tipo de material se vuelve muy facil y barato, tambien gracias a la tecnologia se puede compartir con amigos o parientes. Gracias a que este contenido puede ser visto por todos, gente de cualquier lado puede traducir los idiomas de estos mangas y manwhas,compartir sus traducciones y logrando que cualquier persona sin importar el genero, tenga la comodidad de disfrutar este hobby desde cualquier lugar. En resumen, la tecnologia a contribuido enormemente en la lectura de estos \"comics\" orientales, facilitando su acceso y disfrute de muchas maneras.',\n",
              " 'Nahuel': 'Titulo: Ver seriesDiversión: ver series es algo muy entretenido ya que son momentos en los que me puedo relajar, ademas de que dependiendo la serie puedo emocionarme, puede generarme intriga, me puede asustar, etc. En general la paso muy bienFamilia: Suelo ver series solo, pero ultimamente las veo en familia, con mis padres y con mi hermano, pero normalmente con mi hermanoAmigos: en mi grupo de amigos se suele hablar bastante en grupo sobre las series que vemos, los nuevos estrenos, etc.Medios: Por suerte en mi casa disponemos de varias plataformas para poder ver series, ya sea netflix, Disney+, Prime video, Crunchyroll, HBO+, Star+Tecnología: La tecnologia ayuda en muchos sentidos, por ejemplo con la ayuda de las plataformas de streaming puedo ver mis series favoritas a pesar de ser viejas y/o que no esten en transmision. Gracias a la tecnologia no necesito esperar a una hora especifica o a un dia especifico para poder ver la serie o pelicula que quiera y mas comodidad al poder pausar lo que este viendo, puedo verlo las veces que quiera y donde quiera, es mucho mas comodo de esta manera.',\n",
              " 'Agustin': 'Título: VideojuegosDiversión: Me jugar videojuegos porque me permite vivir historias y desafíos nuevos y unicos, los videojuegos te permiten jugar con amigos y tambien tienen una gran varieda de tipos y generos asi que nunca te podras cansar o aburrir de ellosFamilia: Mi hermano y yo compartimos el hobby casi siempre Pasamos muchas horas jugando juntos y me gusta enseñarle nuevos juegos y hacer torneos entre nosotros en juegos competitivos como mortal kombat o brawhalaAmigos: Tengo un grupo de amigos con los que juego muy segudo casi 4 o 5 veces por semana , discutimos sobre los videojuegos y nos damos consejos entre nosotros sobre algun videojuego que estemos jugando y de vez en cuando organisamos competencias entre nosotros para ver quien es el mejorMedios: casi siempre para enterarme de algun tema sobre videojuegos uso youtube o instagram y veo algun youtuber o instagramer que suba contenido de lo que estoy buscandoTecnología: La tecnología ha transformado por completo la experiencia de jugar. La disponibilidad de consolas de última generación, como PlayStation 5, Xbox Series X, y la creciente potencia de las PC gaming, permiten disfrutar de gráficos y rendimiento excepcionales. Además, la conectividad en línea y las plataformas de distribución digital, como Steam y Epic Games Store, hacen que sea fácil acceder a una amplia variedad de juegos. Los videojuegos son disfrutados por personas de todos los géneros y edades, y la tecnología ha contribuido a la diversificación del público y a la inclusión de más mujeres y personas de distintas comunidades en la comunidad gamer.',\n",
              " 'Lucas': 'Titulo: La musicaDiversión: La musica me deja una sensación de felicidad alegria y mucha pasion, trate de romance, perdida, cuente una historia o hable con metaforas, es una sensación que no se puede describirFamilia: Comparto gustos de ciertas canciones pero en mi familia soy el único que toca instrumentosAmigos: En ciertas ocasiones nada más, es muy raro que se de el compartir mi gudto por la musicaMedios: Youtube, YT music y diversas paginas, por ejemplo cuando quiero ver las tablaturas de una cancion busco y reviso varias versiones para ver cual es la mejor y la que mas se acercaTecnología: En cuestiones de aprendizaje de tecnicas, acordes, lectura de tablaturas, en todo el aprendizaje ya que antes se tenia que ir a escuelas especificadas en eso, profesores privados o lugares publicos que enseñaban como el conservatorio de la Plata a veces quedando demasiado lejos '}"
            ]
          },
          "metadata": {},
          "execution_count": 5
        }
      ]
    },
    {
      "cell_type": "markdown",
      "source": [
        "* Indicar cuáles son las keys y cuáles los valores del diccionario"
      ],
      "metadata": {
        "id": "fz3ki8y7S2qR"
      }
    },
    {
      "cell_type": "code",
      "source": [
        "#completar con el ćodigo\n",
        "for integrante in mi_dict:\n",
        "  print(integrante)\n",
        "  print(mi_dict[integrante])"
      ],
      "metadata": {
        "id": "V9VNRJnvS8lj",
        "colab": {
          "base_uri": "https://localhost:8080/"
        },
        "outputId": "d4553b23-373a-4e7d-ab48-b45773e9f6c0"
      },
      "execution_count": null,
      "outputs": [
        {
          "output_type": "stream",
          "name": "stdout",
          "text": [
            "Lautaro\n",
            "Titulo: Lectura de Mangas y ManwhasDiversion: Disfruto leer este tipo de \"comics\" porque me encantan sus estilos de dibujo y su enorme variedad de historias diferentes, tambien porque por lo general hablan mas sobre paises extranjeros y puedo aprender mas sobre estos.Familia: Estoy seguro de ser el unico integrante de la familia que disfruta este tipo de hobby, ya que este hobby no es muy popular entre adultos, y no tengo familiares con mi mismo rango de edad.Amigos: Con mis amigos compartimos bastante este hobby, recomendandonos algun manga o manwha que nos guste, dando comentarios y opiniones de si nos gusta o no.Medios: Busco informacion sobre mangas generalmente en internet o youtube, principalmente resumenes,recomendaciones y reseñas, ademas uso aplicaciones de lectura para leerlos directamente y/o descargarlos.Tecnologia: La tecnologia a facilitado enormemente la lectura de mangas y manwhas, ya que estos son de origen oriental, siendo que conseguir este tipo de contenido de forma fisica seria muy costoso o muy dificl, en cambio, con los medios tecnologicos la tarea de encontrar este tipo de material se vuelve muy facil y barato, tambien gracias a la tecnologia se puede compartir con amigos o parientes. Gracias a que este contenido puede ser visto por todos, gente de cualquier lado puede traducir los idiomas de estos mangas y manwhas,compartir sus traducciones y logrando que cualquier persona sin importar el genero, tenga la comodidad de disfrutar este hobby desde cualquier lugar. En resumen, la tecnologia a contribuido enormemente en la lectura de estos \"comics\" orientales, facilitando su acceso y disfrute de muchas maneras.\n",
            "Nahuel\n",
            "Titulo: Ver seriesDiversión: ver series es algo muy entretenido ya que son momentos en los que me puedo relajar, ademas de que dependiendo la serie puedo emocionarme, puede generarme intriga, me puede asustar, etc. En general la paso muy bienFamilia: Suelo ver series solo, pero ultimamente las veo en familia, con mis padres y con mi hermano, pero normalmente con mi hermanoAmigos: en mi grupo de amigos se suele hablar bastante en grupo sobre las series que vemos, los nuevos estrenos, etc.Medios: Por suerte en mi casa disponemos de varias plataformas para poder ver series, ya sea netflix, Disney+, Prime video, Crunchyroll, HBO+, Star+Tecnología: La tecnologia ayuda en muchos sentidos, por ejemplo con la ayuda de las plataformas de streaming puedo ver mis series favoritas a pesar de ser viejas y/o que no esten en transmision. Gracias a la tecnologia no necesito esperar a una hora especifica o a un dia especifico para poder ver la serie o pelicula que quiera y mas comodidad al poder pausar lo que este viendo, puedo verlo las veces que quiera y donde quiera, es mucho mas comodo de esta manera.\n",
            "Agustin\n",
            "Título: VideojuegosDiversión: Me jugar videojuegos porque me permite vivir historias y desafíos nuevos y unicos, los videojuegos te permiten jugar con amigos y tambien tienen una gran varieda de tipos y generos asi que nunca te podras cansar o aburrir de ellosFamilia: Mi hermano y yo compartimos el hobby casi siempre Pasamos muchas horas jugando juntos y me gusta enseñarle nuevos juegos y hacer torneos entre nosotros en juegos competitivos como mortal kombat o brawhalaAmigos: Tengo un grupo de amigos con los que juego muy segudo casi 4 o 5 veces por semana , discutimos sobre los videojuegos y nos damos consejos entre nosotros sobre algun videojuego que estemos jugando y de vez en cuando organisamos competencias entre nosotros para ver quien es el mejorMedios: casi siempre para enterarme de algun tema sobre videojuegos uso youtube o instagram y veo algun youtuber o instagramer que suba contenido de lo que estoy buscandoTecnología: La tecnología ha transformado por completo la experiencia de jugar. La disponibilidad de consolas de última generación, como PlayStation 5, Xbox Series X, y la creciente potencia de las PC gaming, permiten disfrutar de gráficos y rendimiento excepcionales. Además, la conectividad en línea y las plataformas de distribución digital, como Steam y Epic Games Store, hacen que sea fácil acceder a una amplia variedad de juegos. Los videojuegos son disfrutados por personas de todos los géneros y edades, y la tecnología ha contribuido a la diversificación del público y a la inclusión de más mujeres y personas de distintas comunidades en la comunidad gamer.\n",
            "Lucas\n",
            "Titulo: La musicaDiversión: La musica me deja una sensación de felicidad alegria y mucha pasion, trate de romance, perdida, cuente una historia o hable con metaforas, es una sensación que no se puede describirFamilia: Comparto gustos de ciertas canciones pero en mi familia soy el único que toca instrumentosAmigos: En ciertas ocasiones nada más, es muy raro que se de el compartir mi gudto por la musicaMedios: Youtube, YT music y diversas paginas, por ejemplo cuando quiero ver las tablaturas de una cancion busco y reviso varias versiones para ver cual es la mejor y la que mas se acercaTecnología: En cuestiones de aprendizaje de tecnicas, acordes, lectura de tablaturas, en todo el aprendizaje ya que antes se tenia que ir a escuelas especificadas en eso, profesores privados o lugares publicos que enseñaban como el conservatorio de la Plata a veces quedando demasiado lejos \n"
          ]
        }
      ]
    },
    {
      "cell_type": "markdown",
      "source": [
        "* Indicar la longitud del diccionario\n"
      ],
      "metadata": {
        "id": "GhafOMUlNuNi"
      }
    },
    {
      "cell_type": "code",
      "source": [
        "#completar con el código para indicar la longitud\n",
        "mayor_caracteres = (\"\", 0)\n",
        "for integrante in mi_dict:\n",
        "  print(integrante)\n",
        "  print(len(mi_dict[integrante]))"
      ],
      "metadata": {
        "id": "NbxzdmPRSPTN",
        "colab": {
          "base_uri": "https://localhost:8080/"
        },
        "outputId": "45170d88-d01f-438d-e806-d2320547a33a"
      },
      "execution_count": null,
      "outputs": [
        {
          "output_type": "stream",
          "name": "stdout",
          "text": [
            "Lautaro\n",
            "1658\n",
            "Nahuel\n",
            "1105\n",
            "Agustin\n",
            "1599\n",
            "Lucas\n",
            "881\n"
          ]
        }
      ]
    },
    {
      "cell_type": "markdown",
      "source": [
        "* Indicar qué integrante tiene el texto más largo.\n",
        "\n",
        "Completar el código para encontrar la solución"
      ],
      "metadata": {
        "id": "FPtyX2FySIRw"
      }
    },
    {
      "cell_type": "code",
      "source": [
        "# recorro el diccionario\n",
        "mayor_caracteres = (\"\", 0)\n",
        "for integrante in mi_dict:\n",
        "  nombre_caracteres = (integrante, len(mi_dict[integrante]))\n",
        "  if nombre_caracteres[1] >= mayor_caracteres[1]:\n",
        "    mayor_caracteres = nombre_caracteres\n",
        "\n",
        "print(\"La persona con mayor caracteres es\", mayor_caracteres[0], \"con\", mayor_caracteres[1], \"caracteres\")\n",
        "  #consulto si el valor asociado en esa key es mayor que un valor maximo\n",
        "  # si es mayor actualizo la variable"
      ],
      "metadata": {
        "id": "lrdKO2PMN0xo",
        "colab": {
          "base_uri": "https://localhost:8080/"
        },
        "outputId": "6e4f5287-ed17-43d1-97a4-314eb57398c5"
      },
      "execution_count": null,
      "outputs": [
        {
          "output_type": "stream",
          "name": "stdout",
          "text": [
            "La persona con mayor caracteres es Lautaro con 1658 caracteres\n"
          ]
        }
      ]
    },
    {
      "cell_type": "markdown",
      "source": [
        "### Contestar\n",
        "1. Indicar qué tipos de datos se utilizaron en este documento.\n",
        "  * Los tipos de datos utilizados fueron: diccionarios, tuplas, listas, strings y intigers.\n",
        "\n",
        "2. Por cada tipo de datos de los ejemplos, indique cuáles son las variables utilizadas en esta actividad de ese tipo.\n",
        "  * las variables usadas para diccionarios fueron: mi_dict.\n",
        "  para Listas fueron: lista_lineas\n",
        "  para tuplas: nombre_caracteres y mayor_caracteres.\n",
        "  strings: texto_completo, texto, hobby, integrante\n",
        "  intigers: mayor_caracteres[1] , nombre_caracteres[1]\n",
        "\n",
        "3. ¿Qué estructuras de datos que permite almacenar más de un elemento, utilizó en esta actividad? De los nombres de las variables que correspondan a este tipo de datos.\n",
        "  * Diccionarios (dict): mi_dict.\n",
        "   Tuplas (tuple): mayor_caracteres, nombre_caracteres\n",
        "   Listas (list): lista_lineas\n",
        "\n",
        "4. ¿Qué estructuras de control utilizó?\n",
        "  * Usamos: for, If y Else.\n",
        "\n",
        "5. Investigar en chatgpt: ¿Qué tipos de archivos se pueden utilizar para guardar datos? Indique los formatos y las librerías que deben importarse para poder usar.\n",
        "\n",
        "Hay una variedad de formatos de archivo que se pueden utilizar para guardar datos, cada uno con sus propias características y ventajas. Aquí hay algunos de los tipos de archivos más comunes junto con las librerías de Python que se pueden utilizar para trabajar con ellos:\n",
        "\n",
        "1. **CSV (Comma Separated Values)**:\n",
        "   - Formato: Archivo de texto plano donde los valores están separados por comas.\n",
        "   - Librería: `csv` (parte de la biblioteca estándar de Python).\n",
        "\n",
        "   ```python\n",
        "   import csv\n",
        "   ```\n",
        "\n",
        "2. **JSON (JavaScript Object Notation)**:\n",
        "   - Formato: Un formato de intercambio de datos basado en texto que es fácil de leer y escribir.\n",
        "   - Librería: `json` (parte de la biblioteca estándar de Python).\n",
        "\n",
        "   ```python\n",
        "   import json\n",
        "   ```\n",
        "\n",
        "3. **Excel** (XLSX, XLS):\n",
        "   - Formato: Formato de archivo de hoja de cálculo desarrollado por Microsoft.\n",
        "   - Librería: `openpyxl`, `xlrd`, `xlsxwriter`.\n",
        "\n",
        "   ```python\n",
        "   import openpyxl\n",
        "   import xlrd\n",
        "   import xlsxwriter\n",
        "   ```\n",
        "\n",
        "4. **HDF5 (Hierarchical Data Format version 5)**:\n",
        "   - Formato: Un formato de archivo binario que soporta almacenamiento de datos jerárquico.\n",
        "   - Librería: `h5py`, `tables`.\n",
        "\n",
        "   ```python\n",
        "   import h5py\n",
        "   import tables\n",
        "   ```\n",
        "\n",
        "5. **SQLite**:\n",
        "   - Formato: Una base de datos relacional que se almacena en un solo archivo plano.\n",
        "   - Librería: `sqlite3` (parte de la biblioteca estándar de Python).\n",
        "\n",
        "   ```python\n",
        "   import sqlite3\n",
        "   ```\n",
        "\n",
        "6. **Parquet**:\n",
        "   - Formato: Un formato de archivo de almacenamiento columnar que es eficiente en términos de espacio y tiempo.\n",
        "   - Librería: `pyarrow`, `pandas`.\n",
        "\n",
        "   ```python\n",
        "   import pyarrow\n",
        "   import pandas\n",
        "   ```\n",
        "\n",
        "Estas son solo algunas de las opciones disponibles en Python para guardar y trabajar con datos en diferentes formatos de archivo. La elección del formato dependerá de los requisitos específicos de tu aplicación, como el tipo de datos, el rendimiento y la interoperabilidad."
      ],
      "metadata": {
        "id": "GZCJ7WEmBL4I"
      }
    },
    {
      "cell_type": "code",
      "source": [],
      "metadata": {
        "id": "S5muwPMg4cW5"
      },
      "execution_count": null,
      "outputs": []
    }
  ]
}